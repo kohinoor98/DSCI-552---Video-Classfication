{
  "nbformat": 4,
  "nbformat_minor": 0,
  "metadata": {
    "colab": {
      "provenance": [],
      "gpuType": "V100",
      "machine_shape": "hm"
    },
    "kernelspec": {
      "name": "python3",
      "display_name": "Python 3"
    },
    "language_info": {
      "name": "python"
    },
    "accelerator": "GPU",
    "gpuClass": "standard"
  },
  "cells": [
    {
      "cell_type": "markdown",
      "source": [
        "## Kohinoor Chatterjee\n",
        "## USC ID - 7961357311\n",
        "## gitusername - kohinoor98"
      ],
      "metadata": {
        "id": "GrAHaBiXyzYR"
      }
    },
    {
      "cell_type": "code",
      "source": [
        "from google.colab import drive\n",
        "drive.mount('/content/drive', force_remount=True)\n",
        "\n",
        "# import os\n",
        "# os.chdir('/content/drive/My Drive/data')\n"
      ],
      "metadata": {
        "colab": {
          "base_uri": "https://localhost:8080/"
        },
        "id": "IVM-chstzsfM",
        "outputId": "0b9b0493-855f-4139-924c-3e2a49c0a3d4"
      },
      "execution_count": 13,
      "outputs": [
        {
          "output_type": "stream",
          "name": "stdout",
          "text": [
            "Mounted at /content/drive\n"
          ]
        }
      ]
    },
    {
      "cell_type": "code",
      "source": [
        "import os\n",
        "import cv2\n",
        "import random\n",
        "import math\n",
        "import shutil\n",
        "import tensorflow as tf\n",
        "import numpy as np\n",
        "from tensorflow.keras.callbacks import EarlyStopping\n",
        "from tensorflow.keras.models import Model\n",
        "from tensorflow.keras.layers import Input, GlobalAveragePooling2D, Dense, Dropout\n",
        "from tensorflow.keras.optimizers import Adam\n",
        "from tensorflow.keras.losses import CategoricalCrossentropy\n",
        "from tensorflow.keras.preprocessing.image import ImageDataGenerator\n",
        "from tensorflow.keras.applications import ResNet50\n",
        "from tensorflow.keras.applications.vgg16 import VGG16\n",
        "from tensorflow.keras.applications.efficientnet import EfficientNetB0\n",
        "import matplotlib.pyplot as plt\n",
        "from sklearn.metrics import classification_report, confusion_matrix\n",
        "import pandas as pd"
      ],
      "metadata": {
        "id": "2Cq97N230lag"
      },
      "execution_count": 44,
      "outputs": []
    },
    {
      "cell_type": "markdown",
      "source": [
        "## Data generation by augmentation"
      ],
      "metadata": {
        "id": "NcifTVco9lBo"
      }
    },
    {
      "cell_type": "code",
      "source": [
        "data_dir = '/content/drive/My Drive/data'\n",
        "output_dir = \"/kaggle/working/processed_images\""
      ],
      "metadata": {
        "id": "912Ng6r18xkN"
      },
      "execution_count": 4,
      "outputs": []
    },
    {
      "cell_type": "markdown",
      "source": [
        "## Train and Test data split for images"
      ],
      "metadata": {
        "id": "NDgfptgg9taB"
      }
    },
    {
      "cell_type": "code",
      "source": [
        "# Define the target size for the resized images\n",
        "target_size = (224, 224)\n",
        "\n",
        "# Define the train, validation, and test ratios\n",
        "train_ratio = 0.7\n",
        "val_ratio = 0.15\n",
        "\n",
        "# Loop through each sport activity folder\n",
        "image_dir = data_dir + \"/Sport Images\"\n",
        "for sport in os.listdir(image_dir):\n",
        "    if sport == \"Image URLs\":\n",
        "        continue\n",
        "    # Get the list of image file names in the current folder\n",
        "    image_files = [item for item in os.listdir(os.path.join(image_dir, sport)) if \".gif\" not in item]\n",
        "    \n",
        "    # Calculate the number of images to use for training, validation, and testing\n",
        "    n_images = len(image_files)\n",
        "    n_train = math.ceil(train_ratio * n_images)\n",
        "    n_val = math.ceil(val_ratio * n_images)\n",
        "    \n",
        "    # Shuffle the list of image files\n",
        "    random.shuffle(image_files)\n",
        "    \n",
        "    # Split the images into training, validation, and test sets\n",
        "    train_files = image_files[:n_train]\n",
        "    val_files = image_files[n_train:n_train+n_val]\n",
        "    test_files = image_files[n_train+n_val:]\n",
        "    \n",
        "    # Create directories to store the split images\n",
        "    os.makedirs(os.path.join(output_dir, \"train\", sport), exist_ok=True)\n",
        "    os.makedirs(os.path.join(output_dir, \"val\", sport), exist_ok=True)\n",
        "    os.makedirs(os.path.join(output_dir, \"test\", sport), exist_ok=True)\n",
        "    # Loop through the training images, resize them, and save them to the train folder\n",
        "    for train_file in train_files:      \n",
        "        img = cv2.imread(os.path.join(image_dir, sport, train_file))\n",
        "        img = cv2.resize(img, target_size)\n",
        "        cv2.imwrite(os.path.join(output_dir, \"train\", sport, train_file), img)\n",
        "\n",
        "    # Loop through the validation images, resize them, and save them to the val folder\n",
        "    for val_file in val_files:\n",
        "        img = cv2.imread(os.path.join(image_dir, sport, val_file))\n",
        "        img = cv2.resize(img, target_size)\n",
        "        cv2.imwrite(os.path.join(output_dir, \"val\", sport, val_file), img)\n",
        "    \n",
        "    # Loop through the test images, resize them, and save them to the test folder\n",
        "    for test_file in test_files:\n",
        "        img = cv2.imread(os.path.join(image_dir, sport, test_file))\n",
        "        img = cv2.resize(img, target_size)\n",
        "        cv2.imwrite(os.path.join(output_dir, \"test\", sport, test_file), img)\n",
        "\n",
        "# Define the range for randomly cropping the images\n",
        "crop_range = (0.8, 1.0)\n",
        "\n",
        "# Define the range for randomly zooming the images\n",
        "zoom_range = (0.9, 1.1)\n",
        "\n",
        "# Define the range for randomly rotating the images\n",
        "rot_range = 30\n",
        "\n",
        "# Define the range for randomly translating the images\n",
        "trans_range = (0.1, 0.1)\n",
        "\n",
        "contrast_range = (0.8, 1.2)\n",
        "\n",
        "batch_size = 5\n",
        "\n",
        "\n",
        "    \n",
        "# Define the image data generator with augmentation options\n",
        "datagen = tf.keras.preprocessing.image.ImageDataGenerator(\n",
        "    zoom_range=zoom_range,\n",
        "    rotation_range=rot_range,\n",
        "    horizontal_flip=True,\n",
        "    vertical_flip=True,\n",
        "    brightness_range=contrast_range,\n",
        "    width_shift_range=trans_range[0],\n",
        "    height_shift_range=trans_range[1],\n",
        "    fill_mode='reflect'\n",
        ")\n",
        "\n",
        "# Load the image data into batches\n",
        "train_data = datagen.flow_from_directory(\n",
        "    directory=output_dir +'/train',\n",
        "    target_size=target_size,\n",
        "    batch_size=batch_size,\n",
        "    class_mode='categorical',\n",
        "    shuffle=False\n",
        ")\n",
        "\n",
        "val_data = datagen.flow_from_directory(\n",
        "    directory=output_dir +'/val',\n",
        "    target_size=target_size,\n",
        "    batch_size=batch_size,\n",
        "    class_mode='categorical',\n",
        "    shuffle=False\n",
        ")\n",
        "\n",
        "test_data = datagen.flow_from_directory(\n",
        "    directory=output_dir +'/test',\n",
        "    target_size=target_size,\n",
        "    batch_size=batch_size,\n",
        "    class_mode='categorical',\n",
        "    shuffle=False\n",
        ")\n"
      ],
      "metadata": {
        "id": "3I3f-YvL1yBC",
        "colab": {
          "base_uri": "https://localhost:8080/"
        },
        "outputId": "11a77690-851d-4ff5-b50a-e3234033c919"
      },
      "execution_count": 26,
      "outputs": [
        {
          "output_type": "stream",
          "name": "stdout",
          "text": [
            "Found 2815 images belonging to 5 classes.\n",
            "Found 800 images belonging to 5 classes.\n",
            "Found 819 images belonging to 5 classes.\n"
          ]
        }
      ]
    },
    {
      "cell_type": "code",
      "source": [
        "# data_path = '/content/drive/My Drive/data/Sport Images'\n",
        "# train_data, val_data, test_data = load_data_and_split(data_path)"
      ],
      "metadata": {
        "id": "RRpeWmHL86kY"
      },
      "execution_count": null,
      "outputs": []
    },
    {
      "cell_type": "markdown",
      "source": [
        "## Visualizing train and test data"
      ],
      "metadata": {
        "id": "9AB8s97g9zNo"
      }
    },
    {
      "cell_type": "markdown",
      "source": [
        "## Preprocess data"
      ],
      "metadata": {
        "id": "RNQoKBT299uZ"
      }
    },
    {
      "cell_type": "markdown",
      "source": [
        "## Create transfer learning models"
      ],
      "metadata": {
        "id": "hHSaAPMK-PEy"
      }
    },
    {
      "cell_type": "code",
      "source": [
        "def create_transfer_learning_model(base_model, num_classes, input_shape):\n",
        "      for layer in base_model.layers:\n",
        "          layer.trainable = False\n",
        "\n",
        "      # Add new layers to the pre-trained model\n",
        "      x = base_model.output\n",
        "      pooling_layer = GlobalAveragePooling2D()(x)\n",
        "\n",
        "      # Add a dense layer with 128 units and ReLU activation\n",
        "      dense_layer = Dense(128, activation='relu')(pooling_layer)\n",
        "\n",
        "      # Add a dropout layer to prevent overfitting\n",
        "      dropout_layer = Dropout(0.5)(dense_layer)\n",
        "\n",
        "      # Add a final dense layer with one unit and softmax activation for multi-class classification\n",
        "      output_layer = Dense(5, activation='softmax')(dropout_layer)\n",
        "\n",
        "      # Create the final model by combining the input layer and the output layer\n",
        "      model = Model(inputs=base_model.input, outputs=output_layer)\n",
        "\n",
        "      # Compile the model with Adam optimizer and SparseCategoricalCrossentropy loss\n",
        "      model.compile(optimizer=Adam(), loss=CategoricalCrossentropy(), metrics=['accuracy'])\n",
        "      \n",
        "      return model\n"
      ],
      "metadata": {
        "id": "JLPOrIsC9YcG"
      },
      "execution_count": 27,
      "outputs": []
    },
    {
      "cell_type": "markdown",
      "source": [
        "## Function to train and evaluate the models"
      ],
      "metadata": {
        "id": "st-pmGx5-U2C"
      }
    },
    {
      "cell_type": "code",
      "source": [
        "class_indices = {'BaseballPitch': 0, 'Basketball': 1, 'Fencing': 2, 'TennisSwing': 3, 'VolleyballSpiking': 4}\n",
        "\n",
        "def evaluate_model_images(model):\n",
        "    # Evaluate on training set\n",
        "    train_preds = model.predict(train_data)\n",
        "    train_preds = np.argmax(train_preds, axis=1)\n",
        "    train_labels = train_data.classes\n",
        "    class_names = list(train_data.class_indices.keys())\n",
        "\n",
        "    print(\"Image Training Results:\")\n",
        "    print(confusion_matrix(train_labels, train_preds))\n",
        "    print(classification_report(train_labels, train_preds, target_names=class_names))\n",
        "\n",
        "    # Evaluate on validation set\n",
        "    test_preds = model.predict(test_data)\n",
        "    test_preds = np.argmax(test_preds, axis=1)\n",
        "    test_labels = test_data.classes\n",
        "\n",
        "    print(\"Test Results:\")\n",
        "    print(confusion_matrix(test_labels, test_preds))\n",
        "    print(classification_report(test_labels, test_preds, target_names=class_names))\n",
        "\n",
        "def evaluate_model_video(model,test_data_path):\n",
        "    # Load the test data\n",
        "    test_data = generate_predictions_df(model, test_data_path)\n",
        "    # Compute the confusion matrix\n",
        "    true_labels = test_data['label']\n",
        "    predicted_labels = test_data['prediction']\n",
        "    classes = np.unique(true_labels)\n",
        "    conf_matrix = confusion_matrix(true_labels, predicted_labels, labels=classes)\n",
        "    conf_matrix_df = pd.DataFrame(conf_matrix, index=classes, columns=classes)\n",
        "\n",
        "    # Compute the classification report\n",
        "    class_report = classification_report(true_labels, predicted_labels, labels=classes, output_dict=True)\n",
        "\n",
        "    # Compute the accuracy\n",
        "    accuracy = accuracy_score(true_labels, predicted_labels)\n",
        "\n",
        "    # Compute the precision, recall, and F1-score\n",
        "    precision = precision_score(true_labels, predicted_labels, average='weighted')\n",
        "    recall = recall_score(true_labels, predicted_labels, average='weighted')\n",
        "    f1 = f1_score(true_labels, predicted_labels, average='weighted')\n",
        "\n",
        "    # Print the results\n",
        "    print(\"Confusion Matrix:\\n\", conf_matrix_df)\n",
        "    print(\"\\nClassification Report:\\n\", pd.DataFrame(class_report).transpose())\n",
        "    print(\"\\nAccuracy:\", accuracy)\n",
        "    print(\"Precision:\", precision)\n",
        "    print(\"Recall:\", recall)\n",
        "    print(\"F1-score:\", f1)\n"
      ],
      "metadata": {
        "id": "13Sc_iIe-SDM"
      },
      "execution_count": 42,
      "outputs": []
    },
    {
      "cell_type": "code",
      "source": [
        "def get_video_paths_and_labels(directory_path):\n",
        "    video_paths = []\n",
        "    labels = []\n",
        "    for subdir, dirs, files in os.walk(directory_path):\n",
        "        for file in files:\n",
        "            if file.endswith('.avi'):\n",
        "                video_path = os.path.join(subdir, file)\n",
        "                label = subdir.split('/')[-1]\n",
        "                video_paths.append(video_path)\n",
        "                labels.append(class_indices[label])\n",
        "    df = pd.DataFrame({'video_path': video_paths, 'label': labels})\n",
        "    return df\n",
        "\n",
        "def predict_video(model, video_path):\n",
        "    vidcap = cv2.VideoCapture(video_path)\n",
        "    count = int(vidcap.get(cv2.CAP_PROP_FRAME_COUNT))\n",
        "    frame_indices = np.linspace(0, count-1, 100).astype(int)\n",
        "    frames = []\n",
        "    for i in frame_indices:\n",
        "        vidcap.set(cv2.CAP_PROP_POS_FRAMES, i)\n",
        "        ret, frame = vidcap.read()\n",
        "        frame = cv2.resize(frame, (224, 224))\n",
        "        frames.append(frame)\n",
        "    frames = np.array(frames)\n",
        "    predictions = model.predict(frames,verbose=0)\n",
        "    average_prediction = np.mean(predictions, axis=0)\n",
        "    class_prediction = np.argmax(average_prediction)\n",
        "    return class_prediction\n",
        "\n",
        "def generate_predictions_df(model, directory_path):\n",
        "    df = get_video_paths_and_labels(directory_path)\n",
        "    predictions = []\n",
        "    total_count = len(df['video_path'])\n",
        "    for i, video_path in enumerate(df['video_path']):\n",
        "        try:\n",
        "            class_prediction = predict_video(model, video_path)\n",
        "            predictions.append(class_prediction)\n",
        "        except Exception as e:\n",
        "#             print(\"Error while processing video: {}\".format(video_path))\n",
        "#             print(str(e))\n",
        "            df = df[df['video_path'] != video_path]\n",
        "        progress = i / total_count * 100\n",
        "#         print(\"Progress: {:.2f}% ({}/{})\".format(progress, i, total_count))\n",
        "    df['prediction'] = predictions\n",
        "    return df"
      ],
      "metadata": {
        "id": "krREK4EQZcDu"
      },
      "execution_count": 29,
      "outputs": []
    },
    {
      "cell_type": "markdown",
      "source": [
        "## Train and evaluate ResNet50, EfficientNetB0, and VGG16 models"
      ],
      "metadata": {
        "id": "GafR51T0-xZP"
      }
    },
    {
      "cell_type": "code",
      "source": [
        "efficientnet_base = EfficientNetB0(weights='imagenet', include_top=False, input_shape=(224, 224, 3))\n",
        "efficientnet_base.trainable = False\n",
        "efficientnet_model = create_transfer_learning_model(efficientnet_base, \"EfficientNetB0\", (224, 224, 3))\n"
      ],
      "metadata": {
        "id": "O7youFeMj93u"
      },
      "execution_count": 30,
      "outputs": []
    },
    {
      "cell_type": "code",
      "source": [
        "def predict_video_frames(model, video_frames):\n",
        "    predictions = model.predict(video_frames)\n",
        "    return np.mean(predictions, axis=0)\n"
      ],
      "metadata": {
        "id": "oFOH6r_H9Yis"
      },
      "execution_count": 31,
      "outputs": []
    },
    {
      "cell_type": "code",
      "source": [
        "# video_classes = ['BaseballPitch', 'Basketball', 'Fencing', 'TennisSwing', 'VolleyballSpiking']\n",
        "# def evaluate_on_videos(model, video_folder):\n",
        "#     video_predictions = []\n",
        "#     video_true_labels = []\n",
        "\n",
        "#     for c_idx, c in enumerate(video_classes):\n",
        "#         class_video_folder = os.path.join(video_folder, c)\n",
        "#         for video_name in os.listdir(class_video_folder):\n",
        "#             video_path = os.path.join(class_video_folder, video_name)\n",
        "#             video_frames = extract_frames(video_path)\n",
        "#             video_prediction = predict_video_frames(model, video_frames)\n",
        "#             video_predictions.append(np.argmax(video_prediction))\n",
        "#             video_true_labels.append(c_idx)\n",
        "\n",
        "#     conf_matrix = confusion_matrix(video_true_labels, video_predictions)\n",
        "#     precision, recall, f1_score, _ = precision_recall_fscore_support(video_true_labels, video_predictions, average='weighted')\n",
        "#     accuracy = accuracy_score(video_true_labels, video_predictions)\n",
        "\n",
        "#     print(\"Confusion Matrix:\")\n",
        "#     print(conf_matrix)\n",
        "\n",
        "#     print(f\"Precision: {precision}\")\n",
        "#     print(f\"Recall: {recall}\")\n",
        "#     print(f\"Accuracy: {accuracy}\")\n",
        "#     print(f\"F1 Score: {f1_score}\")\n"
      ],
      "metadata": {
        "id": "aE2fLAXrQZ2V"
      },
      "execution_count": 32,
      "outputs": []
    },
    {
      "cell_type": "code",
      "source": [
        "def fit_model(model):\n",
        "    early_stopping = EarlyStopping(monitor='val_loss', patience=5)\n",
        "    \n",
        "    # Train the model with the EarlyStopping callback\n",
        "    history = model.fit(train_data, \n",
        "                        epochs=50,\n",
        "                        validation_data=val_data,\n",
        "                        callbacks=[early_stopping])\n",
        "    \n",
        "    plt.plot(history.history['loss'], label='Training Loss')\n",
        "    plt.plot(history.history['val_loss'], label='Validation Loss')\n",
        "    plt.xlabel('Epoch')\n",
        "    plt.ylabel('Loss')\n",
        "    plt.legend()\n",
        "    plt.show()"
      ],
      "metadata": {
        "id": "va2HOgZzY53O"
      },
      "execution_count": 33,
      "outputs": []
    },
    {
      "cell_type": "code",
      "source": [
        "fit_model(efficientnet_model)"
      ],
      "metadata": {
        "colab": {
          "base_uri": "https://localhost:8080/",
          "height": 1000
        },
        "id": "WI7vizUvh6xB",
        "outputId": "96ee8d78-d63f-4335-be44-c780f282ef93"
      },
      "execution_count": 34,
      "outputs": [
        {
          "output_type": "stream",
          "name": "stdout",
          "text": [
            "Epoch 1/50\n",
            "563/563 [==============================] - 55s 85ms/step - loss: 0.5228 - accuracy: 0.8135 - val_loss: 0.2212 - val_accuracy: 0.9237\n",
            "Epoch 2/50\n",
            "563/563 [==============================] - 46s 81ms/step - loss: 0.2877 - accuracy: 0.9044 - val_loss: 0.2057 - val_accuracy: 0.9287\n",
            "Epoch 3/50\n",
            "563/563 [==============================] - 46s 81ms/step - loss: 0.2581 - accuracy: 0.9083 - val_loss: 0.1669 - val_accuracy: 0.9463\n",
            "Epoch 4/50\n",
            "563/563 [==============================] - 46s 81ms/step - loss: 0.2201 - accuracy: 0.9240 - val_loss: 0.1525 - val_accuracy: 0.9438\n",
            "Epoch 5/50\n",
            "563/563 [==============================] - 46s 81ms/step - loss: 0.2010 - accuracy: 0.9325 - val_loss: 0.1338 - val_accuracy: 0.9475\n",
            "Epoch 6/50\n",
            "563/563 [==============================] - 45s 81ms/step - loss: 0.1879 - accuracy: 0.9307 - val_loss: 0.1502 - val_accuracy: 0.9438\n",
            "Epoch 7/50\n",
            "563/563 [==============================] - 46s 81ms/step - loss: 0.1846 - accuracy: 0.9350 - val_loss: 0.1375 - val_accuracy: 0.9538\n",
            "Epoch 8/50\n",
            "563/563 [==============================] - 46s 82ms/step - loss: 0.1571 - accuracy: 0.9428 - val_loss: 0.1337 - val_accuracy: 0.9538\n",
            "Epoch 9/50\n",
            "563/563 [==============================] - 46s 82ms/step - loss: 0.1441 - accuracy: 0.9492 - val_loss: 0.1429 - val_accuracy: 0.9575\n",
            "Epoch 10/50\n",
            "563/563 [==============================] - 46s 81ms/step - loss: 0.1654 - accuracy: 0.9435 - val_loss: 0.1337 - val_accuracy: 0.9588\n",
            "Epoch 11/50\n",
            "563/563 [==============================] - 46s 82ms/step - loss: 0.1333 - accuracy: 0.9510 - val_loss: 0.1527 - val_accuracy: 0.9525\n",
            "Epoch 12/50\n",
            "563/563 [==============================] - 46s 82ms/step - loss: 0.1397 - accuracy: 0.9520 - val_loss: 0.1401 - val_accuracy: 0.9500\n",
            "Epoch 13/50\n",
            "563/563 [==============================] - 45s 81ms/step - loss: 0.1365 - accuracy: 0.9528 - val_loss: 0.1275 - val_accuracy: 0.9638\n",
            "Epoch 14/50\n",
            "563/563 [==============================] - 46s 81ms/step - loss: 0.1218 - accuracy: 0.9560 - val_loss: 0.1363 - val_accuracy: 0.9638\n",
            "Epoch 15/50\n",
            "563/563 [==============================] - 46s 81ms/step - loss: 0.1521 - accuracy: 0.9520 - val_loss: 0.1253 - val_accuracy: 0.9538\n",
            "Epoch 16/50\n",
            "563/563 [==============================] - 46s 82ms/step - loss: 0.1106 - accuracy: 0.9620 - val_loss: 0.1534 - val_accuracy: 0.9563\n",
            "Epoch 17/50\n",
            "563/563 [==============================] - 45s 81ms/step - loss: 0.1296 - accuracy: 0.9563 - val_loss: 0.1048 - val_accuracy: 0.9663\n",
            "Epoch 18/50\n",
            "563/563 [==============================] - 46s 82ms/step - loss: 0.1191 - accuracy: 0.9528 - val_loss: 0.1304 - val_accuracy: 0.9513\n",
            "Epoch 19/50\n",
            "563/563 [==============================] - 45s 81ms/step - loss: 0.1317 - accuracy: 0.9538 - val_loss: 0.1339 - val_accuracy: 0.9663\n",
            "Epoch 20/50\n",
            "563/563 [==============================] - 45s 81ms/step - loss: 0.1015 - accuracy: 0.9670 - val_loss: 0.1044 - val_accuracy: 0.9712\n",
            "Epoch 21/50\n",
            "563/563 [==============================] - 46s 81ms/step - loss: 0.1165 - accuracy: 0.9584 - val_loss: 0.0993 - val_accuracy: 0.9700\n",
            "Epoch 22/50\n",
            "563/563 [==============================] - 46s 81ms/step - loss: 0.0910 - accuracy: 0.9698 - val_loss: 0.1023 - val_accuracy: 0.9663\n",
            "Epoch 23/50\n",
            "563/563 [==============================] - 45s 81ms/step - loss: 0.1089 - accuracy: 0.9584 - val_loss: 0.1317 - val_accuracy: 0.9663\n",
            "Epoch 24/50\n",
            "563/563 [==============================] - 46s 81ms/step - loss: 0.0919 - accuracy: 0.9691 - val_loss: 0.1176 - val_accuracy: 0.9575\n",
            "Epoch 25/50\n",
            "563/563 [==============================] - 46s 82ms/step - loss: 0.0874 - accuracy: 0.9680 - val_loss: 0.0806 - val_accuracy: 0.9725\n",
            "Epoch 26/50\n",
            "563/563 [==============================] - 45s 80ms/step - loss: 0.1105 - accuracy: 0.9627 - val_loss: 0.1340 - val_accuracy: 0.9600\n",
            "Epoch 27/50\n",
            "563/563 [==============================] - 46s 81ms/step - loss: 0.0876 - accuracy: 0.9698 - val_loss: 0.1119 - val_accuracy: 0.9625\n",
            "Epoch 28/50\n",
            "563/563 [==============================] - 45s 81ms/step - loss: 0.1003 - accuracy: 0.9680 - val_loss: 0.1075 - val_accuracy: 0.9775\n",
            "Epoch 29/50\n",
            "563/563 [==============================] - 45s 81ms/step - loss: 0.1049 - accuracy: 0.9655 - val_loss: 0.1092 - val_accuracy: 0.9650\n",
            "Epoch 30/50\n",
            "563/563 [==============================] - 45s 81ms/step - loss: 0.0936 - accuracy: 0.9684 - val_loss: 0.1161 - val_accuracy: 0.9600\n"
          ]
        },
        {
          "output_type": "display_data",
          "data": {
            "text/plain": [
              "<Figure size 640x480 with 1 Axes>"
            ],
            "image/png": "[encoded data removed]"
          },
          "metadata": {}
        }
      ]
    },
    {
      "cell_type": "code",
      "source": [
        "video_folder = '/content/drive/My Drive/data/Sport Videos'\n",
        "\n",
        "# resnet_base = ResNet50(weights='imagenet', include_top=False, input_shape=(256, 256, 3))\n",
        "# resnet_base.trainable = False\n",
        "# resnet_model = train_and_evaluate_model(resnet_base, \"ResNet50\", (256, 256, 3))\n",
        "\n",
        "# efficientnet_base = efn.EfficientNetB0(weights='imagenet', include_top=False, input_shape=(256, 256, 3))\n",
        "# efficientnet_base.trainable = False\n",
        "# efficientnet_model = train_and_evaluate_model(efficientnet_base, \"EfficientNetB0\", (256, 256, 3))\n",
        "\n",
        "# vgg_base = VGG16(weights='imagenet', include_top=False, input_shape=(256, 256, 3))\n",
        "# vgg_base.trainable = False\n",
        "# vgg_model = train_and_evaluate_model(vgg_base, \"VGG16\", (256, 256, 3))\n",
        "\n",
        "# video_folder = '/content/drive/My Drive/data/Sport Videos'\n",
        "\n",
        "# print(\"Evaluating ResNet50 Model\")\n",
        "# evaluate_on_videos(resnet_model, video_folder)\n",
        "\n"
      ],
      "metadata": {
        "id": "Ol-fCeZ8QbPg"
      },
      "execution_count": 35,
      "outputs": []
    },
    {
      "cell_type": "code",
      "source": [
        "print(\"\\nEvaluating EfficientNetB0 Model\")\n",
        "evaluate_model_images(efficientnet_model)\n"
      ],
      "metadata": {
        "id": "LmTKJbAr8pzJ",
        "colab": {
          "base_uri": "https://localhost:8080/"
        },
        "outputId": "fbbf74e5-c581-4911-d603-fbdc4feac95c"
      },
      "execution_count": 38,
      "outputs": [
        {
          "output_type": "stream",
          "name": "stdout",
          "text": [
            "\n",
            "Evaluating EfficientNetB0 Model\n",
            "563/563 [==============================] - 40s 68ms/step\n",
            "Image Training Results:\n",
            "[[666   1   1   0   0]\n",
            " [  0 441   0   0   5]\n",
            " [  0   1 554   0   0]\n",
            " [  4   0   2 494   0]\n",
            " [  0   4   7   0 635]]\n",
            "              precision    recall  f1-score   support\n",
            "\n",
            "    baseball       0.99      1.00      1.00       668\n",
            "  basketball       0.99      0.99      0.99       446\n",
            "     fencing       0.98      1.00      0.99       555\n",
            "      tennis       1.00      0.99      0.99       500\n",
            "  volleyball       0.99      0.98      0.99       646\n",
            "\n",
            "    accuracy                           0.99      2815\n",
            "   macro avg       0.99      0.99      0.99      2815\n",
            "weighted avg       0.99      0.99      0.99      2815\n",
            "\n",
            "164/164 [==============================] - 11s 65ms/step\n",
            "Test Results:\n",
            "[[204   0   1   0   0]\n",
            " [  0 136   1   0   5]\n",
            " [  1   1 166   0   2]\n",
            " [  1   0   5  95   5]\n",
            " [  0   2   2   0 192]]\n",
            "              precision    recall  f1-score   support\n",
            "\n",
            "    baseball       0.99      1.00      0.99       205\n",
            "  basketball       0.98      0.96      0.97       142\n",
            "     fencing       0.95      0.98      0.96       170\n",
            "      tennis       1.00      0.90      0.95       106\n",
            "  volleyball       0.94      0.98      0.96       196\n",
            "\n",
            "    accuracy                           0.97       819\n",
            "   macro avg       0.97      0.96      0.97       819\n",
            "weighted avg       0.97      0.97      0.97       819\n",
            "\n"
          ]
        }
      ]
    },
    {
      "cell_type": "code",
      "source": [
        "evaluate_model_video(efficientnet_model,video_folder)"
      ],
      "metadata": {
        "id": "9SJdnQZT8qRs"
      },
      "execution_count": null,
      "outputs": []
    },
    {
      "cell_type": "code",
      "source": [],
      "metadata": {
        "id": "8iX14hrprJDr"
      },
      "execution_count": null,
      "outputs": []
    }
  ]
}